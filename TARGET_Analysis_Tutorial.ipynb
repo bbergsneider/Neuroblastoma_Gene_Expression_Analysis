{
 "cells": [
  {
   "cell_type": "markdown",
   "metadata": {},
   "source": [
    "# TARGET Analysis Tutorial\n",
    "This file provides a brief tutorial on how to use the functions in the 'TARGET_Analysis_Functions_v2.ipynb' file. The functions described below conduct gene expression analysis on publicly-available data from the Therapeutically Applicable Research to Generate Effective Treatments (TARGET) initiative. They specifically analyze Affymetrix Exon ST microarray data from 249 neuroblastoma samples. The data was downloaded directly from the cBio Cancer Genomics Portal at https://www.cbioportal.org/study/summary?id=nbl_target_2018_pub and can be found in the 'neuroblastoma_gene_expression_analysis_files/nbl_target_2018_pub' folder within the 'bbergsneider/Neuroblastoma_Gene_Expression_Analysis' GitHub directory. To learn more about the TARGET neuroblastoma initiative and how the dataset was obtained, please refer to: https://ocg.cancer.gov/programs/target/projects/neuroblastoma\n",
    "\n",
    "In order to use the functions in 'TARGET_Analysis_Functions_v2.ipynb' in a separate file, you must ensure that 'TARGET_Analysis_Functions_v2.ipynb' is in the same directory as the file you are using and import the functions using the following command:"
   ]
  },
  {
   "cell_type": "code",
   "execution_count": 1,
   "metadata": {},
   "outputs": [],
   "source": [
    "from ipynb.fs.full.TARGET_Analysis_Functions_v2 import *"
   ]
  },
  {
   "cell_type": "markdown",
   "metadata": {},
   "source": [
    "## Functions for Stratifying Data\n",
    "The functions below divide neuroblastoma samples in the TARGET study into different groups based on clinical characteristics."
   ]
  },
  {
   "cell_type": "markdown",
   "metadata": {},
   "source": [
    "##### 1. Stratify Numerical Patient Data:\n",
    "This function allows you to stratify samples based on numerical information within the 'data_clinical_patient.txt' file. This file contains clinical information on the patients from which the tumor samples were derived. The most relevant columns you will want to stratify samples on are: 'Diagnosis Age (days)', 'EFS Time', and 'Overall Survival Days'. You need to input (1) the column you want to stratify samples on, and (2) the numerical threshold you want to stratify on. The function will return a 2-D array containing two lists: the first will contain all samples with a column value less than the threshold and the second all samples with a column value greater than or equal to the threshold. For example, you can divide TARGET samples into those with <5yr (1825 days) EFS and those with >=5yr EFS by simply writing:"
   ]
  },
  {
   "cell_type": "code",
   "execution_count": 2,
   "metadata": {},
   "outputs": [
    {
     "name": "stdout",
     "output_type": "stream",
     "text": [
      "[4       TARGET-30-PAUDVA-09\n",
      "7       TARGET-30-PATTEF-01\n",
      "8       TARGET-30-PATTDY-01\n",
      "11      TARGET-30-PARLTG-01\n",
      "12      TARGET-30-PAURYJ-01\n",
      "               ...         \n",
      "1086    TARGET-30-PANBMJ-01\n",
      "1087    TARGET-30-PAUPRN-01\n",
      "1088    TARGET-30-PARZZC-01\n",
      "1089    TARGET-30-PAUHYY-01\n",
      "1091    TARGET-30-PASUYG-01\n",
      "Name: Sample Identifier, Length: 694, dtype: object, 5       TARGET-30-PASCKI-01\n",
      "6       TARGET-30-PARXAX-01\n",
      "9       TARGET-30-PALXTE-01\n",
      "10      TARGET-30-PALPSY-01\n",
      "13      TARGET-30-PAITZV-01\n",
      "               ...         \n",
      "1078    TARGET-30-PAIBIW-01\n",
      "1079    TARGET-30-PASSII-01\n",
      "1085    TARGET-30-PAMYVA-01\n",
      "1090    TARGET-30-PASFXS-01\n",
      "1092    TARGET-30-PATNPW-01\n",
      "Name: Sample Identifier, Length: 391, dtype: object]\n"
     ]
    }
   ],
   "source": [
    "efs_stratified_samples = stratifyNumericalPatientData('EFS Time',1825)\n",
    "print(efs_stratified_samples)"
   ]
  },
  {
   "cell_type": "markdown",
   "metadata": {},
   "source": [
    "##### 2. Statify Categorical Patient Data:\n",
    "This function is very similar to the one above; however, it allows you to stratify samples based on data in 'data_clinical_patient.txt' that is binary/categorical rather than continuous. The most relevant columns you will likely want to stratify samples on are: 'INSS Stage', 'Tumor Sample Histology', 'Diagnosis', 'Sex', 'Ethnicity Category', 'Risk Group', 'First Event', and 'Overall Survival Status'. You need to input (1) the column you want to stratify samples on and (2) a list of the relevant categories within that column. The function will return a 2-D array containing lists of samples, one for each of the categories specified. For example, you can divide TARGET samples into those with Unfavorable vs Favorable Tumor Sample Histology by simply writing:"
   ]
  },
  {
   "cell_type": "code",
   "execution_count": 3,
   "metadata": {},
   "outputs": [
    {
     "name": "stdout",
     "output_type": "stream",
     "text": [
      "[4       TARGET-30-PAUDVA-09\n",
      "5       TARGET-30-PASCKI-01\n",
      "8       TARGET-30-PATTDY-01\n",
      "11      TARGET-30-PARLTG-01\n",
      "13      TARGET-30-PAITZV-01\n",
      "               ...         \n",
      "1087    TARGET-30-PAUPRN-01\n",
      "1088    TARGET-30-PARZZC-01\n",
      "1089    TARGET-30-PAUHYY-01\n",
      "1091    TARGET-30-PASUYG-01\n",
      "1092    TARGET-30-PATNPW-01\n",
      "Name: Sample Identifier, Length: 721, dtype: object, 7       TARGET-30-PATTEF-01\n",
      "9       TARGET-30-PALXTE-01\n",
      "10      TARGET-30-PALPSY-01\n",
      "12      TARGET-30-PAURYJ-01\n",
      "15      TARGET-30-PATVMF-01\n",
      "               ...         \n",
      "1071    TARGET-30-PASUCU-01\n",
      "1072    TARGET-30-PATAFE-01\n",
      "1079    TARGET-30-PASSII-01\n",
      "1080    TARGET-30-PATUNK-01\n",
      "1081    TARGET-30-PASKZT-01\n",
      "Name: Sample Identifier, Length: 281, dtype: object]\n"
     ]
    }
   ],
   "source": [
    "histology_stratified_samples = stratifyCategoricalPatientData('Tumor Sample Histology',['Unfavorable','Favorable'])\n",
    "print(histology_stratified_samples)"
   ]
  },
  {
   "cell_type": "markdown",
   "metadata": {},
   "source": [
    "##### 3. Statify Categorical Sample Data:\n",
    "This function allows you to stratify samples based on categorical data in the 'data_clinical_sample.txt' file. This file contains experimental information on the tumor samples themselves. The most relevant columns you will likely want to stratify samples on are: 'MYCN', 'PLOIDY', 'GRADE', and 'MKI'. Just like the function above, you need to input (1) the column you want to stratify samples on and (2) a list of the relevant categories within that column. The function will return a 2-D array containing lists of samples, one for each of hte categories specified. For example, you can divide TARGET samples by MYCN amplification by simply writing:"
   ]
  },
  {
   "cell_type": "code",
   "execution_count": 4,
   "metadata": {},
   "outputs": [
    {
     "name": "stdout",
     "output_type": "stream",
     "text": [
      "[5       TARGET-30-PASCKI-01\n",
      "6       TARGET-30-PARXAX-01\n",
      "7       TARGET-30-PATTEF-01\n",
      "8       TARGET-30-PATTDY-01\n",
      "9       TARGET-30-PALXTE-01\n",
      "               ...         \n",
      "1087    TARGET-30-PAUPRN-01\n",
      "1088    TARGET-30-PARZZC-01\n",
      "1089    TARGET-30-PAUHYY-01\n",
      "1090    TARGET-30-PASFXS-01\n",
      "1091    TARGET-30-PASUYG-01\n",
      "Name: Sample Identifier, Length: 770, dtype: object, 4       TARGET-30-PAUDVA-09\n",
      "21      TARGET-30-PAUSXH-01\n",
      "23      TARGET-30-PALHTR-01\n",
      "29      TARGET-30-PAPGJR-01\n",
      "31      TARGET-30-PAUFPG-01\n",
      "               ...         \n",
      "1074    TARGET-30-PASMET-01\n",
      "1075    TARGET-30-PATKPD-01\n",
      "1076    TARGET-30-PAULVH-01\n",
      "1078    TARGET-30-PAIBIW-01\n",
      "1092    TARGET-30-PATNPW-01\n",
      "Name: Sample Identifier, Length: 303, dtype: object]\n"
     ]
    }
   ],
   "source": [
    "mycn_stratified_samples = stratifyCategoricalSampleData('MYCN',['Not Amplified','Amplified'])\n",
    "print(mycn_stratified_samples)"
   ]
  },
  {
   "cell_type": "markdown",
   "metadata": {},
   "source": [
    "##### 4. Stratify Data on Gene Expression (2 Groups):\n",
    "This function allows you to stratify samples based on expression of a single gene of interest, using z-scores in the 'data_mRNA_median_all_sample_Zscores.txt' file, which contains log-transformed mRNA z-scores calculated by comparing the expression of each gene in each sample to the expression of the gene across all samples. In order to use this function, you need to input: (1) the gene of interest, (2) the lower z-score threshold, and (3) the upper z-score threshold. The function outputs a 2-D array containing two lists: the first contains all samples with a gene z-score less than the lower threshold, and the second contains all samples with a gene z-score greater than the upper threshold. For example, if you want to stratify TARGET samples based on expression of the NTRK1 (using -0.5 and 0.5 as the lower and upper cutoffs), you can simply write:"
   ]
  },
  {
   "cell_type": "code",
   "execution_count": 5,
   "metadata": {},
   "outputs": [
    {
     "name": "stdout",
     "output_type": "stream",
     "text": [
      "[Index(['TARGET-30-PAAPFA-01', 'TARGET-30-PACUGP-01', 'TARGET-30-PACVNB-01',\n",
      "       'TARGET-30-PACZPX-01', 'TARGET-30-PADFLI-01', 'TARGET-30-PADINC-01',\n",
      "       'TARGET-30-PADIRB-01', 'TARGET-30-PADKNE-01', 'TARGET-30-PADKRU-01',\n",
      "       'TARGET-30-PADKYP-01', 'TARGET-30-PADLDA-01', 'TARGET-30-PADLDT-01',\n",
      "       'TARGET-30-PADLKJ-01', 'TARGET-30-PADLNM-01', 'TARGET-30-PADLTD-01',\n",
      "       'TARGET-30-PADMTD-01', 'TARGET-30-PADMYD-01', 'TARGET-30-PADNXC-01',\n",
      "       'TARGET-30-PADPEY-01', 'TARGET-30-PADRYN-01', 'TARGET-30-PADTJJ-01',\n",
      "       'TARGET-30-PADUYJ-01', 'TARGET-30-PADWEN-01', 'TARGET-30-PAIRDP-01',\n",
      "       'TARGET-30-PAITCI-01', 'TARGET-30-PAIUJB-01', 'TARGET-30-PAIVZR-01',\n",
      "       'TARGET-30-PAIXNG-01', 'TARGET-30-PAJYVA-01', 'TARGET-30-PAJZUU-01',\n",
      "       'TARGET-30-PAKACY-01', 'TARGET-30-PAKANZ-01', 'TARGET-30-PAKGMY-01',\n",
      "       'TARGET-30-PAKJBA-01', 'TARGET-30-PAKXDZ-01', 'TARGET-30-PALBFV-01',\n",
      "       'TARGET-30-PALIIN-01', 'TARGET-30-PALKUC-01', 'TARGET-30-PALNHZ-01',\n",
      "       'TARGET-30-PALZRG-01', 'TARGET-30-PALZZV-01', 'TARGET-30-PAMBDH-01',\n",
      "       'TARGET-30-PAMBMJ-01', 'TARGET-30-PAMBYG-01', 'TARGET-30-PAMCXF-01',\n",
      "       'TARGET-30-PAMJED-01', 'TARGET-30-PAMLMY-01', 'TARGET-30-PAMLNB-01',\n",
      "       'TARGET-30-PAMMXF-01', 'TARGET-30-PAMMYR-01', 'TARGET-30-PAMZCE-01',\n",
      "       'TARGET-30-PAMZMG-01', 'TARGET-30-PANBSP-01', 'TARGET-30-PANCYF-01',\n",
      "       'TARGET-30-PANLSG-01', 'TARGET-30-PANNIJ-01', 'TARGET-30-PANUKV-01',\n",
      "       'TARGET-30-PANVAN-01', 'TARGET-30-PAPBZI-01', 'TARGET-30-PAPEFE-01',\n",
      "       'TARGET-30-PAPEJW-01', 'TARGET-30-PAPKWN-01', 'TARGET-30-PAPSEI-01',\n",
      "       'TARGET-30-PAPTIP-01', 'TARGET-30-PAPTLY-01', 'TARGET-30-PAPTMM-01',\n",
      "       'TARGET-30-PAPUEB-01', 'TARGET-30-PAPUNH-01', 'TARGET-30-PAPUTN-01',\n",
      "       'TARGET-30-PAPWUC-01', 'TARGET-30-PAPZYP-01', 'TARGET-30-PARABN-01',\n",
      "       'TARGET-30-PARIKF-01', 'TARGET-30-PARIRD-01', 'TARGET-30-PARJTB-01',\n",
      "       'TARGET-30-PARRBU-01', 'TARGET-30-PARSHT-01', 'TARGET-30-PARVRR-01',\n",
      "       'TARGET-30-PARXLM-01', 'TARGET-30-PASCLP-01', 'TARGET-30-PASCUF-01',\n",
      "       'TARGET-30-PASDZJ-01', 'TARGET-30-PASJRT-01', 'TARGET-30-PASJYB-01',\n",
      "       'TARGET-30-PASLGS-01'],\n",
      "      dtype='object'), Index(['TARGET-30-PACLJN-01', 'TARGET-30-PACPJG-01', 'TARGET-30-PACRZM-01',\n",
      "       'TARGET-30-PADENF-01', 'TARGET-30-PADHWC-01', 'TARGET-30-PADIEY-01',\n",
      "       'TARGET-30-PADIHC-01', 'TARGET-30-PADKFS-01', 'TARGET-30-PADKFU-01',\n",
      "       'TARGET-30-PADLES-01', 'TARGET-30-PADLPZ-01', 'TARGET-30-PADMGA-01',\n",
      "       'TARGET-30-PADMVB-01', 'TARGET-30-PADNNX-01', 'TARGET-30-PADPCI-01',\n",
      "       'TARGET-30-PADPMU-01', 'TARGET-30-PADSXE-01', 'TARGET-30-PADTCU-01',\n",
      "       'TARGET-30-PADTRV-01', 'TARGET-30-PADUWR-01', 'TARGET-30-PADVSN-01',\n",
      "       'TARGET-30-PADWIM-01', 'TARGET-30-PADWSM-01', 'TARGET-30-PADWVR-01',\n",
      "       'TARGET-30-PAIEIF-01', 'TARGET-30-PAIMDS-01', 'TARGET-30-PAIPUD-01',\n",
      "       'TARGET-30-PAIRIK-01', 'TARGET-30-PAIVMJ-01', 'TARGET-30-PAIWHU-01',\n",
      "       'TARGET-30-PAIXLC-01', 'TARGET-30-PAJXLE-01', 'TARGET-30-PAKADI-01',\n",
      "       'TARGET-30-PAKGCI-01', 'TARGET-30-PAKGKH-01', 'TARGET-30-PAKHAV-01',\n",
      "       'TARGET-30-PAKINP-01', 'TARGET-30-PAKSWB-01', 'TARGET-30-PAKUXT-01',\n",
      "       'TARGET-30-PAKWCJ-01', 'TARGET-30-PAKYZS-01', 'TARGET-30-PALBFW-01',\n",
      "       'TARGET-30-PALEAC-01', 'TARGET-30-PALEBK-01', 'TARGET-30-PALETP-01',\n",
      "       'TARGET-30-PALFSE-01', 'TARGET-30-PALGFF-01', 'TARGET-30-PALKKV-01',\n",
      "       'TARGET-30-PALNFE-01', 'TARGET-30-PALNVP-01', 'TARGET-30-PALPIN-01',\n",
      "       'TARGET-30-PALPSY-01', 'TARGET-30-PALTYB-01', 'TARGET-30-PALUDH-01',\n",
      "       'TARGET-30-PALVKK-01', 'TARGET-30-PALVUC-01', 'TARGET-30-PALWBT-01',\n",
      "       'TARGET-30-PALWSJ-01', 'TARGET-30-PALWXP-01', 'TARGET-30-PALXTB-01',\n",
      "       'TARGET-30-PALXTE-01', 'TARGET-30-PALXUM-01', 'TARGET-30-PALYEC-01',\n",
      "       'TARGET-30-PALYLZ-01', 'TARGET-30-PAMACS-01', 'TARGET-30-PAMAFV-01',\n",
      "       'TARGET-30-PAMAJT-01', 'TARGET-30-PAMNAL-01', 'TARGET-30-PAMVCL-01',\n",
      "       'TARGET-30-PAMXWF-01', 'TARGET-30-PAMYCE-01', 'TARGET-30-PAMYVA-01',\n",
      "       'TARGET-30-PANBJH-01', 'TARGET-30-PANBMJ-01', 'TARGET-30-PANRRW-01',\n",
      "       'TARGET-30-PANZPV-01', 'TARGET-30-PAPRTD-01', 'TARGET-30-PAPTLD-01',\n",
      "       'TARGET-30-PARAHE-01', 'TARGET-30-PARDUJ-01', 'TARGET-30-PARGDJ-01',\n",
      "       'TARGET-30-PARJAR-01', 'TARGET-30-PARMFA-01', 'TARGET-30-PARNCW-01',\n",
      "       'TARGET-30-PARSEA-01', 'TARGET-30-PARVME-01', 'TARGET-30-PASATK-01',\n",
      "       'TARGET-30-PASGPY-01'],\n",
      "      dtype='object')]\n"
     ]
    }
   ],
   "source": [
    "ntrk1_stratified_samples_two_groups = stratifyDataOnGeneExpression_twoGroups('NTRK1',-0.5,0.5)\n",
    "print(ntrk1_stratified_samples_two_groups)\n",
    "\n"
   ]
  },
  {
   "cell_type": "markdown",
   "metadata": {},
   "source": [
    "##### 5. Stratify Data on Gene Expression (3 Groups):\n",
    "This function is similar to the one above, except that it splits samples into three groups: the first contains all samples with a z-score less than the lower threshold, the second contains all samples with a z-score in-between the lower and upper thresholds, and the third contains all samples with a z-score greater than the upper threshold. The inputs are the same as the function above. For example, we can again split samples based on NTRK1 expression, but instead splitting samples into three groups this time, by simply writing:"
   ]
  },
  {
   "cell_type": "code",
   "execution_count": 6,
   "metadata": {},
   "outputs": [
    {
     "name": "stdout",
     "output_type": "stream",
     "text": [
      "[Index(['TARGET-30-PAAPFA-01', 'TARGET-30-PACUGP-01', 'TARGET-30-PACVNB-01',\n",
      "       'TARGET-30-PACZPX-01', 'TARGET-30-PADFLI-01', 'TARGET-30-PADINC-01',\n",
      "       'TARGET-30-PADIRB-01', 'TARGET-30-PADKNE-01', 'TARGET-30-PADKRU-01',\n",
      "       'TARGET-30-PADKYP-01', 'TARGET-30-PADLDA-01', 'TARGET-30-PADLDT-01',\n",
      "       'TARGET-30-PADLKJ-01', 'TARGET-30-PADLNM-01', 'TARGET-30-PADLTD-01',\n",
      "       'TARGET-30-PADMTD-01', 'TARGET-30-PADMYD-01', 'TARGET-30-PADNXC-01',\n",
      "       'TARGET-30-PADPEY-01', 'TARGET-30-PADRYN-01', 'TARGET-30-PADTJJ-01',\n",
      "       'TARGET-30-PADUYJ-01', 'TARGET-30-PADWEN-01', 'TARGET-30-PAIRDP-01',\n",
      "       'TARGET-30-PAITCI-01', 'TARGET-30-PAIUJB-01', 'TARGET-30-PAIVZR-01',\n",
      "       'TARGET-30-PAIXNG-01', 'TARGET-30-PAJYVA-01', 'TARGET-30-PAJZUU-01',\n",
      "       'TARGET-30-PAKACY-01', 'TARGET-30-PAKANZ-01', 'TARGET-30-PAKGMY-01',\n",
      "       'TARGET-30-PAKJBA-01', 'TARGET-30-PAKXDZ-01', 'TARGET-30-PALBFV-01',\n",
      "       'TARGET-30-PALIIN-01', 'TARGET-30-PALKUC-01', 'TARGET-30-PALNHZ-01',\n",
      "       'TARGET-30-PALZRG-01', 'TARGET-30-PALZZV-01', 'TARGET-30-PAMBDH-01',\n",
      "       'TARGET-30-PAMBMJ-01', 'TARGET-30-PAMBYG-01', 'TARGET-30-PAMCXF-01',\n",
      "       'TARGET-30-PAMJED-01', 'TARGET-30-PAMLMY-01', 'TARGET-30-PAMLNB-01',\n",
      "       'TARGET-30-PAMMXF-01', 'TARGET-30-PAMMYR-01', 'TARGET-30-PAMZCE-01',\n",
      "       'TARGET-30-PAMZMG-01', 'TARGET-30-PANBSP-01', 'TARGET-30-PANCYF-01',\n",
      "       'TARGET-30-PANLSG-01', 'TARGET-30-PANNIJ-01', 'TARGET-30-PANUKV-01',\n",
      "       'TARGET-30-PANVAN-01', 'TARGET-30-PAPBZI-01', 'TARGET-30-PAPEFE-01',\n",
      "       'TARGET-30-PAPEJW-01', 'TARGET-30-PAPKWN-01', 'TARGET-30-PAPSEI-01',\n",
      "       'TARGET-30-PAPTIP-01', 'TARGET-30-PAPTLY-01', 'TARGET-30-PAPTMM-01',\n",
      "       'TARGET-30-PAPUEB-01', 'TARGET-30-PAPUNH-01', 'TARGET-30-PAPUTN-01',\n",
      "       'TARGET-30-PAPWUC-01', 'TARGET-30-PAPZYP-01', 'TARGET-30-PARABN-01',\n",
      "       'TARGET-30-PARIKF-01', 'TARGET-30-PARIRD-01', 'TARGET-30-PARJTB-01',\n",
      "       'TARGET-30-PARRBU-01', 'TARGET-30-PARSHT-01', 'TARGET-30-PARVRR-01',\n",
      "       'TARGET-30-PARXLM-01', 'TARGET-30-PASCLP-01', 'TARGET-30-PASCUF-01',\n",
      "       'TARGET-30-PASDZJ-01', 'TARGET-30-PASJRT-01', 'TARGET-30-PASJYB-01',\n",
      "       'TARGET-30-PASLGS-01'],\n",
      "      dtype='object'), Index(['TARGET-30-PACRYY-01', 'TARGET-30-PACSNL-01', 'TARGET-30-PACSSR-01',\n",
      "       'TARGET-30-PACYGY-01', 'TARGET-30-PADKGF-01', 'TARGET-30-PADKVV-01',\n",
      "       'TARGET-30-PADKXS-01', 'TARGET-30-PADLIC-01', 'TARGET-30-PADLJN-01',\n",
      "       'TARGET-30-PADLPR-01', 'TARGET-30-PADMXD-01', 'TARGET-30-PADNFT-01',\n",
      "       'TARGET-30-PADPHP-01', 'TARGET-30-PADPRJ-01', 'TARGET-30-PADSEC-01',\n",
      "       'TARGET-30-PADSMF-01', 'TARGET-30-PADSXU-01', 'TARGET-30-PADUKP-01',\n",
      "       'TARGET-30-PADVWW-01', 'TARGET-30-PADXAS-01', 'TARGET-30-PADXBB-01',\n",
      "       'TARGET-30-PAIDJS-01', 'TARGET-30-PAILZJ-01', 'TARGET-30-PAIPGU-01',\n",
      "       'TARGET-30-PAIRLN-01', 'TARGET-30-PAISNS-01', 'TARGET-30-PAITEG-01',\n",
      "       'TARGET-30-PAITRM-01', 'TARGET-30-PAITZV-01', 'TARGET-30-PAIVHE-01',\n",
      "       'TARGET-30-PAIWVG-01', 'TARGET-30-PAJYHP-01', 'TARGET-30-PAJYLA-01',\n",
      "       'TARGET-30-PAJZWL-01', 'TARGET-30-PAKAFK-01', 'TARGET-30-PAKDHL-01',\n",
      "       'TARGET-30-PALAWZ-01', 'TARGET-30-PALFRE-01', 'TARGET-30-PALHVD-01',\n",
      "       'TARGET-30-PALLJJ-01', 'TARGET-30-PALSAE-01', 'TARGET-30-PALUYS-01',\n",
      "       'TARGET-30-PALVVH-01', 'TARGET-30-PALWVJ-01', 'TARGET-30-PALYPW-01',\n",
      "       'TARGET-30-PAMEHH-01', 'TARGET-30-PAMEZH-01', 'TARGET-30-PAMNLH-01',\n",
      "       'TARGET-30-PAMZYM-01', 'TARGET-30-PANDHZ-01', 'TARGET-30-PANGTS-01',\n",
      "       'TARGET-30-PANHUA-01', 'TARGET-30-PANUVK-01', 'TARGET-30-PANYGR-01',\n",
      "       'TARGET-30-PANZHT-01', 'TARGET-30-PAPAKS-01', 'TARGET-30-PAPBGH-01',\n",
      "       'TARGET-30-PAPHPE-01', 'TARGET-30-PAPJLD-01', 'TARGET-30-PAPSKM-01',\n",
      "       'TARGET-30-PAPUAR-01', 'TARGET-30-PARACM-01', 'TARGET-30-PARCWT-01',\n",
      "       'TARGET-30-PAREGK-01', 'TARGET-30-PARFBW-01', 'TARGET-30-PARGUX-01',\n",
      "       'TARGET-30-PARHYL-01', 'TARGET-30-PARIKT-01', 'TARGET-30-PARMTT-01',\n",
      "       'TARGET-30-PARNEE-01', 'TARGET-30-PARUXY-01', 'TARGET-30-PASAZJ-01',\n",
      "       'TARGET-30-PASBEN-01', 'TARGET-30-PASCKI-01', 'TARGET-30-PASFRV-01',\n",
      "       'TARGET-30-PASKJX-01'],\n",
      "      dtype='object'), Index(['TARGET-30-PACLJN-01', 'TARGET-30-PACPJG-01', 'TARGET-30-PACRZM-01',\n",
      "       'TARGET-30-PADENF-01', 'TARGET-30-PADHWC-01', 'TARGET-30-PADIEY-01',\n",
      "       'TARGET-30-PADIHC-01', 'TARGET-30-PADKFS-01', 'TARGET-30-PADKFU-01',\n",
      "       'TARGET-30-PADLES-01', 'TARGET-30-PADLPZ-01', 'TARGET-30-PADMGA-01',\n",
      "       'TARGET-30-PADMVB-01', 'TARGET-30-PADNNX-01', 'TARGET-30-PADPCI-01',\n",
      "       'TARGET-30-PADPMU-01', 'TARGET-30-PADSXE-01', 'TARGET-30-PADTCU-01',\n",
      "       'TARGET-30-PADTRV-01', 'TARGET-30-PADUWR-01', 'TARGET-30-PADVSN-01',\n",
      "       'TARGET-30-PADWIM-01', 'TARGET-30-PADWSM-01', 'TARGET-30-PADWVR-01',\n",
      "       'TARGET-30-PAIEIF-01', 'TARGET-30-PAIMDS-01', 'TARGET-30-PAIPUD-01',\n",
      "       'TARGET-30-PAIRIK-01', 'TARGET-30-PAIVMJ-01', 'TARGET-30-PAIWHU-01',\n",
      "       'TARGET-30-PAIXLC-01', 'TARGET-30-PAJXLE-01', 'TARGET-30-PAKADI-01',\n",
      "       'TARGET-30-PAKGCI-01', 'TARGET-30-PAKGKH-01', 'TARGET-30-PAKHAV-01',\n",
      "       'TARGET-30-PAKINP-01', 'TARGET-30-PAKSWB-01', 'TARGET-30-PAKUXT-01',\n",
      "       'TARGET-30-PAKWCJ-01', 'TARGET-30-PAKYZS-01', 'TARGET-30-PALBFW-01',\n",
      "       'TARGET-30-PALEAC-01', 'TARGET-30-PALEBK-01', 'TARGET-30-PALETP-01',\n",
      "       'TARGET-30-PALFSE-01', 'TARGET-30-PALGFF-01', 'TARGET-30-PALKKV-01',\n",
      "       'TARGET-30-PALNFE-01', 'TARGET-30-PALNVP-01', 'TARGET-30-PALPIN-01',\n",
      "       'TARGET-30-PALPSY-01', 'TARGET-30-PALTYB-01', 'TARGET-30-PALUDH-01',\n",
      "       'TARGET-30-PALVKK-01', 'TARGET-30-PALVUC-01', 'TARGET-30-PALWBT-01',\n",
      "       'TARGET-30-PALWSJ-01', 'TARGET-30-PALWXP-01', 'TARGET-30-PALXTB-01',\n",
      "       'TARGET-30-PALXTE-01', 'TARGET-30-PALXUM-01', 'TARGET-30-PALYEC-01',\n",
      "       'TARGET-30-PALYLZ-01', 'TARGET-30-PAMACS-01', 'TARGET-30-PAMAFV-01',\n",
      "       'TARGET-30-PAMAJT-01', 'TARGET-30-PAMNAL-01', 'TARGET-30-PAMVCL-01',\n",
      "       'TARGET-30-PAMXWF-01', 'TARGET-30-PAMYCE-01', 'TARGET-30-PAMYVA-01',\n",
      "       'TARGET-30-PANBJH-01', 'TARGET-30-PANBMJ-01', 'TARGET-30-PANRRW-01',\n",
      "       'TARGET-30-PANZPV-01', 'TARGET-30-PAPRTD-01', 'TARGET-30-PAPTLD-01',\n",
      "       'TARGET-30-PARAHE-01', 'TARGET-30-PARDUJ-01', 'TARGET-30-PARGDJ-01',\n",
      "       'TARGET-30-PARJAR-01', 'TARGET-30-PARMFA-01', 'TARGET-30-PARNCW-01',\n",
      "       'TARGET-30-PARSEA-01', 'TARGET-30-PARVME-01', 'TARGET-30-PASATK-01',\n",
      "       'TARGET-30-PASGPY-01'],\n",
      "      dtype='object')]\n"
     ]
    }
   ],
   "source": [
    "ntrk1_stratified_samples_three_groups = stratifyDataOnGeneExpression_threeGroups('NTRK1',-0.5,0.5)\n",
    "print(ntrk1_stratified_samples_three_groups)"
   ]
  },
  {
   "cell_type": "markdown",
   "metadata": {},
   "source": [
    "## Function for comparing expression of a single gene between multiple groups\n",
    "This function allows you to compare expression of a gene of interest between the groups you obtained using the functions in the previous section."
   ]
  },
  {
   "cell_type": "markdown",
   "metadata": {},
   "source": [
    "##### 1. Compare Expression:\n",
    "This function compares the expression of a gene of interest between multiple groups using z-scores from 'data_mRNA_median_all_sample_Zscores.txt'. The inputs to the function are: (1) The gene you want to analyze, (2) a 2-D array containing lists of the groups you want to compare (output of the functions above), (3) your title for the boxplot graph, (4) a list containing the labels of each category, and (5) the type of statistical test you want to compare groups with (use 't-test_ind' to run an independent t-test, see this page for a list of other tests you can run: https://github.com/webermarcolivier/statannot). The function will print a boxplot of the gene expression compared between the groups, the results of the statistical test you chose, and summary statistics for each group (median, mean, and 95% CI). For example, if you want to compare TP53 expression between samples stratified by 5-year EFS, you can use the stratifyNumericalPatientData function in the previous section and this function to do so by writing:"
   ]
  },
  {
   "cell_type": "code",
   "execution_count": 7,
   "metadata": {},
   "outputs": [
    {
     "name": "stdout",
     "output_type": "stream",
     "text": [
      "<5 yrs v.s. >=5yrs: t-test independent samples, P_val=5.482e-04 stat=3.502e+00\n"
     ]
    },
    {
     "data": {
      "image/png": "[encoded data removed]",
      "text/plain": [
       "<Figure size 432x288 with 1 Axes>"
      ]
     },
     "metadata": {
      "needs_background": "light"
     },
     "output_type": "display_data"
    },
    {
     "name": "stdout",
     "output_type": "stream",
     "text": [
      "<5 yrs: median = 0.266, mean = 0.15824842767295597, 95% CI = (-0.0010545829122004247, 0.3175514382581124)\n",
      ">=5yrs: median = -0.45935, mean = -0.29748863636363637, 95% CI = (-0.48362309102274037, -0.11135418170453237)\n"
     ]
    }
   ],
   "source": [
    "efs_stratified_samples = stratifyNumericalPatientData('EFS Time',1825)\n",
    "compareExpression('TP53',efs_stratified_samples,'TP53 Expression Stratified by EFS',['<5 yrs','>=5yrs'],'t-test_ind')\n",
    "\n"
   ]
  },
  {
   "cell_type": "markdown",
   "metadata": {},
   "source": [
    "## Function for comparing EFS between multiple groups\n",
    "This function allows you to compare the Event Free Survival (EFS) distributions between the groups that you obtained using the functions in the first section."
   ]
  },
  {
   "cell_type": "markdown",
   "metadata": {},
   "source": [
    "##### 1. Compare EFS:\n",
    "This function compares the EFS distributions between multiple groups. Inputs to the function are: (1) The groups you want to compare, (2) your title for the boxplot graph, (3) a list containing labels for each category, and (4) the type of statistical test you want to compare groups with. The function prints a boxplot of the EFS compared between the groups, the results of the statistical test you chose, and summary statistics for each group. For example, if you want to compare the EFS distribution between samples with and without MYCN amplification, you can use the stratifyCategoricalSampleData function and this function to do so by writing:"
   ]
  },
  {
   "cell_type": "code",
   "execution_count": 8,
   "metadata": {},
   "outputs": [
    {
     "name": "stdout",
     "output_type": "stream",
     "text": [
      "Not Amplified v.s. Amplified: t-test independent samples, P_val=4.497e-07 stat=5.078e+00\n"
     ]
    },
    {
     "data": {
      "image/png": "[encoded data removed]",
      "text/plain": [
       "<Figure size 432x288 with 1 Axes>"
      ]
     },
     "metadata": {
      "needs_background": "light"
     },
     "output_type": "display_data"
    },
    {
     "name": "stdout",
     "output_type": "stream",
     "text": [
      "Not Amplified: median = 1402.0, mean = 1572.4868073878629, 95% CI = (1486.9114767046729, 1658.062138071053)\n",
      "Amplified: median = 676.0, mean = 1166.6666666666667, 95% CI = (1043.2785122649004, 1290.054821068433)\n"
     ]
    }
   ],
   "source": [
    "mycn_stratified_samples = stratifyCategoricalSampleData('MYCN',['Not Amplified','Amplified'])\n",
    "compareEFS(mycn_stratified_samples, 'EFS Stratified by MYCN Amplification', ['Not Amplified','Amplified'], 't-test_ind')\n",
    "\n",
    "\n"
   ]
  },
  {
   "cell_type": "markdown",
   "metadata": {},
   "source": [
    "## Function for making Kaplan-Meier curves comparing multiple groups\n",
    "This function makes Kaplan-Meier curves based on Event Free Survival (EFS) for comparing the groups that you obtained using the functions in the first section."
   ]
  },
  {
   "cell_type": "markdown",
   "metadata": {},
   "source": [
    "##### 1. Kaplan-Meier EFS:\n",
    "This function makes Kaplan-Meier curves based on EFS for comparing multiple groups. Inputs to the function are: (1) A 2-D array containing lists of the groups you want to compare, (2) your title for the graph, and (3) a list containing labels for each category. The function will print Kaplan-Meier curve, the median survival time and probability of 5yr EFS for each group, and the results of comparing each group to each other with the log-rank test. For example, if we want to make Kaplan-Meier curves of groups stratified by NTRK1 expression, we can use the stratifyDataOnGeneExpression_threeGroups function and this function to do so by writing:"
   ]
  },
  {
   "cell_type": "code",
   "execution_count": 9,
   "metadata": {},
   "outputs": [
    {
     "name": "stdout",
     "output_type": "stream",
     "text": [
      "Low median survival time = 1.5863013698630137\n",
      "Low probability of 5yr EFS = 0.2662878787878788\n",
      "Intermediate median survival time = 1.9863013698630136\n",
      "Intermediate probability of 5yr EFS = 0.381125226860254\n",
      "High median survival time = 13.446575342465753\n",
      "High probability of 5yr EFS = 0.5326416159145956\n"
     ]
    },
    {
     "data": {
      "image/png": "[encoded data removed]",
      "text/plain": [
       "<Figure size 432x288 with 1 Axes>"
      ]
     },
     "metadata": {
      "needs_background": "light"
     },
     "output_type": "display_data"
    },
    {
     "name": "stdout",
     "output_type": "stream",
     "text": [
      "Log Rank Test between Low and Intermediate\n"
     ]
    },
    {
     "data": {
      "text/html": [
       "<div>\n",
       "<style scoped>\n",
       "    .dataframe tbody tr th:only-of-type {\n",
       "        vertical-align: middle;\n",
       "    }\n",
       "\n",
       "    .dataframe tbody tr th {\n",
       "        vertical-align: top;\n",
       "    }\n",
       "\n",
       "    .dataframe thead th {\n",
       "        text-align: right;\n",
       "    }\n",
       "</style>\n",
       "<table border=\"1\" class=\"dataframe\">\n",
       "  <tbody>\n",
       "    <tr>\n",
       "      <th>t_0</th>\n",
       "      <td>-1</td>\n",
       "    </tr>\n",
       "    <tr>\n",
       "      <th>null_distribution</th>\n",
       "      <td>chi squared</td>\n",
       "    </tr>\n",
       "    <tr>\n",
       "      <th>degrees_of_freedom</th>\n",
       "      <td>1</td>\n",
       "    </tr>\n",
       "    <tr>\n",
       "      <th>test_name</th>\n",
       "      <td>logrank_test</td>\n",
       "    </tr>\n",
       "  </tbody>\n",
       "</table>\n",
       "</div><table border=\"1\" class=\"dataframe\">\n",
       "  <thead>\n",
       "    <tr style=\"text-align: right;\">\n",
       "      <th></th>\n",
       "      <th>test_statistic</th>\n",
       "      <th>p</th>\n",
       "      <th>-log2(p)</th>\n",
       "    </tr>\n",
       "  </thead>\n",
       "  <tbody>\n",
       "    <tr>\n",
       "      <th>0</th>\n",
       "      <td>0.86</td>\n",
       "      <td>0.35</td>\n",
       "      <td>1.50</td>\n",
       "    </tr>\n",
       "  </tbody>\n",
       "</table>"
      ],
      "text/latex": [
       "\\begin{tabular}{lrrr}\n",
       "\\toprule\n",
       "{} &  test\\_statistic &         p &  -log2(p) \\\\\n",
       "\\midrule\n",
       "0 &        0.859303 &  0.353934 &  1.498449 \\\\\n",
       "\\bottomrule\n",
       "\\end{tabular}\n"
      ],
      "text/plain": [
       "<lifelines.StatisticalResult: logrank_test>\n",
       "               t_0 = -1\n",
       " null_distribution = chi squared\n",
       "degrees_of_freedom = 1\n",
       "         test_name = logrank_test\n",
       "\n",
       "---\n",
       " test_statistic    p  -log2(p)\n",
       "           0.86 0.35      1.50"
      ]
     },
     "metadata": {},
     "output_type": "display_data"
    },
    {
     "name": "stdout",
     "output_type": "stream",
     "text": [
      "p-value = 0.3539337358369532\n",
      "Log Rank Test between Low and High\n"
     ]
    },
    {
     "data": {
      "text/html": [
       "<div>\n",
       "<style scoped>\n",
       "    .dataframe tbody tr th:only-of-type {\n",
       "        vertical-align: middle;\n",
       "    }\n",
       "\n",
       "    .dataframe tbody tr th {\n",
       "        vertical-align: top;\n",
       "    }\n",
       "\n",
       "    .dataframe thead th {\n",
       "        text-align: right;\n",
       "    }\n",
       "</style>\n",
       "<table border=\"1\" class=\"dataframe\">\n",
       "  <tbody>\n",
       "    <tr>\n",
       "      <th>t_0</th>\n",
       "      <td>-1</td>\n",
       "    </tr>\n",
       "    <tr>\n",
       "      <th>null_distribution</th>\n",
       "      <td>chi squared</td>\n",
       "    </tr>\n",
       "    <tr>\n",
       "      <th>degrees_of_freedom</th>\n",
       "      <td>1</td>\n",
       "    </tr>\n",
       "    <tr>\n",
       "      <th>test_name</th>\n",
       "      <td>logrank_test</td>\n",
       "    </tr>\n",
       "  </tbody>\n",
       "</table>\n",
       "</div><table border=\"1\" class=\"dataframe\">\n",
       "  <thead>\n",
       "    <tr style=\"text-align: right;\">\n",
       "      <th></th>\n",
       "      <th>test_statistic</th>\n",
       "      <th>p</th>\n",
       "      <th>-log2(p)</th>\n",
       "    </tr>\n",
       "  </thead>\n",
       "  <tbody>\n",
       "    <tr>\n",
       "      <th>0</th>\n",
       "      <td>13.33</td>\n",
       "      <td>&lt;0.005</td>\n",
       "      <td>11.90</td>\n",
       "    </tr>\n",
       "  </tbody>\n",
       "</table>"
      ],
      "text/latex": [
       "\\begin{tabular}{lrrr}\n",
       "\\toprule\n",
       "{} &  test\\_statistic &         p &   -log2(p) \\\\\n",
       "\\midrule\n",
       "0 &       13.329721 &  0.000261 &  11.902379 \\\\\n",
       "\\bottomrule\n",
       "\\end{tabular}\n"
      ],
      "text/plain": [
       "<lifelines.StatisticalResult: logrank_test>\n",
       "               t_0 = -1\n",
       " null_distribution = chi squared\n",
       "degrees_of_freedom = 1\n",
       "         test_name = logrank_test\n",
       "\n",
       "---\n",
       " test_statistic      p  -log2(p)\n",
       "          13.33 <0.005     11.90"
      ]
     },
     "metadata": {},
     "output_type": "display_data"
    },
    {
     "name": "stdout",
     "output_type": "stream",
     "text": [
      "p-value = 0.0002612323652489673\n",
      "Log Rank Test between Intermediate and High\n"
     ]
    },
    {
     "data": {
      "text/html": [
       "<div>\n",
       "<style scoped>\n",
       "    .dataframe tbody tr th:only-of-type {\n",
       "        vertical-align: middle;\n",
       "    }\n",
       "\n",
       "    .dataframe tbody tr th {\n",
       "        vertical-align: top;\n",
       "    }\n",
       "\n",
       "    .dataframe thead th {\n",
       "        text-align: right;\n",
       "    }\n",
       "</style>\n",
       "<table border=\"1\" class=\"dataframe\">\n",
       "  <tbody>\n",
       "    <tr>\n",
       "      <th>t_0</th>\n",
       "      <td>-1</td>\n",
       "    </tr>\n",
       "    <tr>\n",
       "      <th>null_distribution</th>\n",
       "      <td>chi squared</td>\n",
       "    </tr>\n",
       "    <tr>\n",
       "      <th>degrees_of_freedom</th>\n",
       "      <td>1</td>\n",
       "    </tr>\n",
       "    <tr>\n",
       "      <th>test_name</th>\n",
       "      <td>logrank_test</td>\n",
       "    </tr>\n",
       "  </tbody>\n",
       "</table>\n",
       "</div><table border=\"1\" class=\"dataframe\">\n",
       "  <thead>\n",
       "    <tr style=\"text-align: right;\">\n",
       "      <th></th>\n",
       "      <th>test_statistic</th>\n",
       "      <th>p</th>\n",
       "      <th>-log2(p)</th>\n",
       "    </tr>\n",
       "  </thead>\n",
       "  <tbody>\n",
       "    <tr>\n",
       "      <th>0</th>\n",
       "      <td>8.54</td>\n",
       "      <td>&lt;0.005</td>\n",
       "      <td>8.17</td>\n",
       "    </tr>\n",
       "  </tbody>\n",
       "</table>"
      ],
      "text/latex": [
       "\\begin{tabular}{lrrr}\n",
       "\\toprule\n",
       "{} &  test\\_statistic &         p &  -log2(p) \\\\\n",
       "\\midrule\n",
       "0 &        8.536082 &  0.003482 &  8.165975 \\\\\n",
       "\\bottomrule\n",
       "\\end{tabular}\n"
      ],
      "text/plain": [
       "<lifelines.StatisticalResult: logrank_test>\n",
       "               t_0 = -1\n",
       " null_distribution = chi squared\n",
       "degrees_of_freedom = 1\n",
       "         test_name = logrank_test\n",
       "\n",
       "---\n",
       " test_statistic      p  -log2(p)\n",
       "           8.54 <0.005      8.17"
      ]
     },
     "metadata": {},
     "output_type": "display_data"
    },
    {
     "name": "stdout",
     "output_type": "stream",
     "text": [
      "p-value = 0.003481742043722444\n"
     ]
    }
   ],
   "source": [
    "ntrk1_stratified_samples_three_groups = stratifyDataOnGeneExpression_threeGroups('NTRK1',-0.5,0.5)\n",
    "kaplanmeierEFS(ntrk1_stratified_samples_three_groups, 'Kaplan-Meier analysis of samples stratified by NTRK1 expression', ['Low','Intermediate','High'])\n",
    "\n",
    "\n"
   ]
  },
  {
   "cell_type": "markdown",
   "metadata": {},
   "source": [
    "## Function for making a scatter plot of z-scores between two genes\n",
    "This function makes a scatter plot for comparing the z-scores of two genes across all TARGET samples. It lets you compare whether or not two genes are correlated."
   ]
  },
  {
   "cell_type": "markdown",
   "metadata": {},
   "source": [
    "##### 1. Gene Scatter:\n",
    "This function makes a scatter plot for comparing the z-scores of two genes across all TARGET samples. Inputs: (1) gene you want to be plotted on the x-axis and (2) gene to be plotted on the y-axis. The function outputs a scatter plot that includes a line of best fit, as well as the results of a pearson's correlation test. For example, if you want to compare the expression of TP53 and NTRK1 across all TARGET samples, you can simply do so with the code:"
   ]
  },
  {
   "cell_type": "code",
   "execution_count": 10,
   "metadata": {},
   "outputs": [
    {
     "data": {
      "image/png": "[encoded data removed]",
      "text/plain": [
       "<Figure size 432x288 with 1 Axes>"
      ]
     },
     "metadata": {
      "needs_background": "light"
     },
     "output_type": "display_data"
    },
    {
     "name": "stdout",
     "output_type": "stream",
     "text": [
      "Pearson correlation coefficient = -0.5937294768334125\n",
      "p-value = 4.123929928064985e-25\n"
     ]
    }
   ],
   "source": [
    "geneScatter('TP53','NTRK1')"
   ]
  }
 ],
 "metadata": {
  "kernelspec": {
   "display_name": "Python 3",
   "language": "python",
   "name": "python3"
  },
  "language_info": {
   "codemirror_mode": {
    "name": "ipython",
    "version": 3
   },
   "file_extension": ".py",
   "mimetype": "text/x-python",
   "name": "python",
   "nbconvert_exporter": "python",
   "pygments_lexer": "ipython3",
   "version": "3.8.2"
  }
 },
 "nbformat": 4,
 "nbformat_minor": 4
}
