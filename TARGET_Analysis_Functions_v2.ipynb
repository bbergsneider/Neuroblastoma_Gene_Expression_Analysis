{
 "cells": [
  {
   "cell_type": "code",
   "execution_count": 1,
   "metadata": {},
   "outputs": [],
   "source": [
    "import pandas as pd\n",
    "import numpy as np\n",
    "import matplotlib.pyplot as plt\n",
    "import scipy.stats as st\n",
    "from matplotlib.ticker import PercentFormatter\n",
    "import kaplanmeier as km\n",
    "from lifelines import KaplanMeierFitter\n",
    "from lifelines.statistics import logrank_test\n",
    "import seaborn as sns\n",
    "from statannot import add_stat_annotation\n",
    "from itertools import combinations "
   ]
  },
  {
   "cell_type": "markdown",
   "metadata": {},
   "source": [
    "# Read in TARGET data files"
   ]
  },
  {
   "cell_type": "code",
   "execution_count": 3,
   "metadata": {},
   "outputs": [],
   "source": [
    "# Read in sample z-score data from 'data_mRNA_median_all_sample_Zscores.txt' into pandas dataframe\n",
    "z_scores = pd.read_csv('neuroblastoma_gene_expression_analysis_files/nbl_target_2018_pub/data_mRNA_median_all_sample_Zscores.txt',  sep='\\t')"
   ]
  },
  {
   "cell_type": "code",
   "execution_count": 4,
   "metadata": {},
   "outputs": [],
   "source": [
    "#Read in patient and sample clinical data into pandas dataframe\n",
    "clinical_patient = pd.read_csv('neuroblastoma_gene_expression_analysis_files/nbl_target_2018_pub/data_clinical_patient.txt',  sep='\\t', error_bad_lines=False)\n",
    "clinical_sample = pd.read_csv('neuroblastoma_gene_expression_analysis_files/nbl_target_2018_pub/data_clinical_sample.txt',  sep='\\t', error_bad_lines=False)\n",
    "\n"
   ]
  },
  {
   "cell_type": "code",
   "execution_count": 5,
   "metadata": {},
   "outputs": [],
   "source": [
    "#Trim patient and sample clinical data to get rid of extraneous headers\n",
    "clinical_patient_trimmed = clinical_patient.iloc[4:,:]\n",
    "clinical_sample_trimmed = clinical_sample.iloc[4:,:]"
   ]
  },
  {
   "cell_type": "markdown",
   "metadata": {},
   "source": [
    "# Functions for stratifying data"
   ]
  },
  {
   "cell_type": "code",
   "execution_count": 7,
   "metadata": {},
   "outputs": [],
   "source": [
    "#This function stratifies samples based on numerical information in the 'data_clinical_patient.txt' file\n",
    "#Inputs: Column you want to stratify data on, numerical threshold you want to stratify by\n",
    "#Output: 2-D array containing lists of samples in each stratified group\n",
    "def stratifyNumericalPatientData(stratifyingColumn,threshold):\n",
    "    \n",
    "    #Stratify patients based threshold in stratifyingColumn\n",
    "    group1_patients = clinical_patient_trimmed.loc[clinical_patient_trimmed[stratifyingColumn].astype(float) < threshold]['#Patient Identifier']\n",
    "    group2_patients = clinical_patient_trimmed.loc[clinical_patient_trimmed[stratifyingColumn].astype(float) >= threshold]['#Patient Identifier']\n",
    "    \n",
    "    #Stratify samples based on patients in each group\n",
    "    group1_samples = clinical_sample_trimmed.loc[clinical_sample_trimmed['#Patient Identifier'].isin(group1_patients)]['Sample Identifier']\n",
    "    group2_samples = clinical_sample_trimmed.loc[clinical_sample_trimmed['#Patient Identifier'].isin(group2_patients)]['Sample Identifier']\n",
    "    \n",
    "    return [group1_samples, group2_samples]\n",
    "\n",
    "\n"
   ]
  },
  {
   "cell_type": "code",
   "execution_count": 8,
   "metadata": {},
   "outputs": [],
   "source": [
    "#This function stratifies samples based on categorical information in the 'data_clinical_patient.txt' file\n",
    "#Inputs: Column you want to stratify data on, a list of the names of the categories within the stratifyingColumn you want to stratify on\n",
    "#Output: 2-D array containing lists of samples in each stratified group\n",
    "def stratifyCategoricalPatientData(stratifyingColumn,categories):\n",
    "    \n",
    "    #Create 2-D array to be returned\n",
    "    sample_array = []\n",
    "    \n",
    "    #Stratify patients based on categories in stratifyingColumn\n",
    "    for category in categories:\n",
    "        group_patients = clinical_patient_trimmed.loc[clinical_patient_trimmed[stratifyingColumn]==category]['#Patient Identifier']\n",
    "        group_samples = clinical_sample_trimmed.loc[clinical_sample_trimmed['#Patient Identifier'].isin(group_patients)]['Sample Identifier']\n",
    "        sample_array.append(group_samples)\n",
    "    \n",
    "    return sample_array\n",
    "    \n",
    "    \n",
    "    "
   ]
  },
  {
   "cell_type": "code",
   "execution_count": 6,
   "metadata": {},
   "outputs": [],
   "source": [
    "#This function stratifies samples based on categorical information in the 'data_clinical_sample.txt' file\n",
    "#Inputs: Column you want to stratify data on, a list of the names of the categories within the stratifyingColumn you want to stratify on\n",
    "#Output: 2-D array containing lists of samples in each stratified group\n",
    "def stratifyCategoricalSampleData(stratifyingColumn,categories):\n",
    "    \n",
    "    #Create 2-D array to be returned\n",
    "    sample_array = []\n",
    "    \n",
    "    #Statify samples based on categories in stratifyingColumn\n",
    "    for category in categories:\n",
    "        group_samples = clinical_sample_trimmed.loc[clinical_sample_trimmed[stratifyingColumn]==category]['Sample Identifier']\n",
    "        sample_array.append(group_samples)\n",
    "    \n",
    "    return sample_array\n",
    "    \n",
    "    \n",
    "    "
   ]
  },
  {
   "cell_type": "code",
   "execution_count": 10,
   "metadata": {},
   "outputs": [],
   "source": [
    "#This function stratifies samples based on the expression of a gene of interest\n",
    "#Inputs: gene of interest, lower z-score threshold, upper z-score threshold\n",
    "#Outputs: 2-D array containing lists of samples in each stratified group\n",
    "#Statifies data into two groups (below lowerThresh, and above upperThresh)\n",
    "def stratifyDataOnGeneExpression_twoGroups(gene,lowerThresh,upperThresh,z_scores=z_scores):\n",
    "    #Obtain the z-scores for the gene of interest\n",
    "    gene_z_scores = z_scores.loc[z_scores['Hugo_Symbol']==gene].iloc[:,2:].transpose()\n",
    "    #Find samples for which the z-scores are < lowerThresh\n",
    "    lower_expression_samples = gene_z_scores.loc[gene_z_scores.iloc[:,0] < lowerThresh].index\n",
    "    #Find samples for which the z-scores are > upperThresh\n",
    "    higher_expression_samples = gene_z_scores.loc[gene_z_scores.iloc[:,0] > upperThresh].index\n",
    "    return [lower_expression_samples, higher_expression_samples]"
   ]
  },
  {
   "cell_type": "code",
   "execution_count": 11,
   "metadata": {},
   "outputs": [],
   "source": [
    "#This function stratifies samples based on the expression of a gene of interest\n",
    "#Inputs: gene of interest, lower z-score threshold, upper z-score threshold\n",
    "#Outputs: 2-D array containing lists of samples in each stratified group\n",
    "#Stratifies data into three groups (low, intermediate, and high)\n",
    "def stratifyDataOnGeneExpression_threeGroups(gene,lowerThresh,upperThresh):\n",
    "    #Obtain the z-scores for gene of interest\n",
    "    gene_z_scores = z_scores.loc[z_scores['Hugo_Symbol']==gene].iloc[:,2:].transpose()\n",
    "    #Find samples for which the z-scores are < lowerThresh\n",
    "    lower_expression_samples = gene_z_scores.loc[gene_z_scores.iloc[:,0] < lowerThresh].index\n",
    "    #Find samples for which z-scores are between thresholds\n",
    "    intermediate_z_scores = gene_z_scores.loc[gene_z_scores.iloc[:,0] > lowerThresh]\n",
    "    intermediate_expression_samples = intermediate_z_scores.loc[intermediate_z_scores.iloc[:,0] < upperThresh].index\n",
    "    #Find samples for which the z-scores are > upperThresh\n",
    "    higher_expression_samples = gene_z_scores.loc[gene_z_scores.iloc[:,0] > upperThresh].index\n",
    "    return [lower_expression_samples, intermediate_expression_samples, higher_expression_samples]"
   ]
  },
  {
   "cell_type": "markdown",
   "metadata": {},
   "source": [
    "# Function for comparing expression of a single gene between multiple groups"
   ]
  },
  {
   "cell_type": "code",
   "execution_count": 7,
   "metadata": {},
   "outputs": [],
   "source": [
    "#This function compares the expression of a gene of interest between multiple groups\n",
    "#Inputs: Hugo_Symbol of gene of interest, 2-D array containing lists of samples in each groups (output of functions above),\n",
    "#title of graph, list of labels for each category (for labelling graphs), and the type of statistical test\n",
    "#you want to use to compare groups (see https://github.com/webermarcolivier/statannot for the types of tests available)\n",
    "#Outputs: boxplot of gene expression compared between groups, results of statistical test, summary statistics\n",
    "def compareExpression(gene,groups,title,categoryLabels, testType):\n",
    "    #Find z-scores for specified gene for each group, and store in list\n",
    "    gene_expression_values = []\n",
    "    for group in groups:\n",
    "        group_columns = ['Hugo_Symbol','Entrez_Gene_Id'] + list(set(group).intersection(z_scores.columns))\n",
    "        group_z_scores = z_scores[group_columns]\n",
    "        group_gene_expression_df = group_z_scores.loc[group_z_scores['Hugo_Symbol']==gene]\n",
    "        group_gene_expression_values = group_gene_expression_df.iloc[0,2:].values.astype(float)\n",
    "        gene_expression_values.append(group_gene_expression_values)\n",
    "    \n",
    "    #Update category labels to include sample size\n",
    "    updated_categoryLabels = []\n",
    "    for i in range(len(categoryLabels)):\n",
    "        updated_categoryLabels.append(categoryLabels[i] + ' (n = ' + str(len(gene_expression_values[i])) + ')')\n",
    "    \n",
    "    #Make dataframe of gene expression values\n",
    "    gene_expression_values_df = pd.DataFrame(index=range(max([len(i) for i in gene_expression_values])))\n",
    "    for i in range(len(categoryLabels)):\n",
    "        gene_expression_values_df[categoryLabels[i]] = pd.Series(gene_expression_values[i])\n",
    "    \n",
    "    #Box plot comparing expression between groups\n",
    "    ax2 = ax2 = sns.boxplot(data=gene_expression_values)\n",
    "    ax2.set_ylabel('z-scores')\n",
    "    ax2.set_xticklabels(updated_categoryLabels)\n",
    "    ax2.set_title(title)\n",
    "    ax2.set_ylim(-5,5)\n",
    "    ax2, test_results = add_stat_annotation(ax2, data=gene_expression_values_df,\n",
    "                    box_pairs=list(combinations(categoryLabels,2)),\n",
    "                    test=testType, text_format='simple', loc='inside', verbose=2, comparisons_correction=None)\n",
    "    plt.show()\n",
    "    \n",
    "    #Print median, mean, and 95% CI of z-scores for each group\n",
    "    for i in range(len(gene_expression_values)):\n",
    "        print(categoryLabels[i] + \": median = \" + str(np.median(gene_expression_values[i]))\n",
    "         + \", mean = \" + str(np.mean(gene_expression_values[i]))\n",
    "         + \", 95% CI = \" + str(st.norm.interval(alpha=0.95, loc=np.mean(gene_expression_values[i]), scale=st.sem(gene_expression_values[i]))))\n",
    "        \n",
    "\n",
    "    \n",
    "    \n",
    "    "
   ]
  },
  {
   "cell_type": "markdown",
   "metadata": {},
   "source": [
    "# Function for comparing EFS between multiple groups"
   ]
  },
  {
   "cell_type": "code",
   "execution_count": 16,
   "metadata": {},
   "outputs": [],
   "source": [
    "#This function compares the Event-Free Survival (EFS) between multiple groups\n",
    "#Inputs: 2-D array containing lists of samples in each groups (output of functions above),\n",
    "#title of graph, list of labels for each group, type of test you want to use to compare groups\n",
    "#Outputs: boxplot of EFS compared between groups, summary statistics\n",
    "def compareEFS(groups, title, labels, testType):\n",
    "    #Get EFS times for each group\n",
    "    EFS = []\n",
    "    for group in groups:\n",
    "        patients = clinical_sample_trimmed.loc[clinical_sample_trimmed['Sample Identifier'].isin(group)]['#Patient Identifier']\n",
    "        group_EFS = clinical_patient_trimmed.loc[clinical_patient_trimmed['#Patient Identifier'].isin(patients)]['EFS Time'].astype(float).dropna()\n",
    "        EFS.append(group_EFS)\n",
    "    \n",
    "    #Update  labels to include sample size\n",
    "    updated_labels = []\n",
    "    for i in range(len(labels)):\n",
    "        updated_labels.append(labels[i] + ' (n = ' + str(len(EFS[i])) + ')')\n",
    "        \n",
    "    #Make dataframe of EFS times\n",
    "    EFS_df = pd.DataFrame(index=range(max([len(i) for i in EFS])))\n",
    "    for i in range(len(labels)):\n",
    "        EFS_df[labels[i]] = pd.Series(EFS[i].values)\n",
    "    \n",
    "    #Boxplot comparing EFS time of each group\n",
    "    ax = sns.boxplot(data=EFS)\n",
    "    ax.set_ylabel('EFS (Days)')\n",
    "    ax.set_xticklabels(updated_labels)\n",
    "    ax.set_title(title)\n",
    "    ax, test_results = add_stat_annotation(ax, data=EFS_df,\n",
    "                    box_pairs=list(combinations(labels,2)),\n",
    "                    test=testType, text_format='simple', loc='inside', verbose=2, comparisons_correction=None)\n",
    "    plt.show()\n",
    "    \n",
    "    #Print median, mean, and 95% CI of z-scores for each group\n",
    "    for i in range(len(EFS)):\n",
    "        print(labels[i] + \": median = \" + str(np.median(EFS[i]))\n",
    "         + \", mean = \" + str(np.mean(EFS[i]))\n",
    "         + \", 95% CI = \" + str(st.norm.interval(alpha=0.95, loc=np.mean(EFS[i]), scale=st.sem(EFS[i]))))\n",
    "        \n",
    "        "
   ]
  },
  {
   "cell_type": "markdown",
   "metadata": {},
   "source": [
    "# Function for making Kaplan Meier curves comparing multiple groups"
   ]
  },
  {
   "cell_type": "code",
   "execution_count": null,
   "metadata": {},
   "outputs": [],
   "source": [
    "#This function plots a Kaplan Meier curve based on event-free survival of multiple groups\n",
    "#Inputs: 2-D array containing lists of samples in each groups (output of functions above),\n",
    "#title of graph, list of string labels for each group\n",
    "#Output: Kaplan Meier curve\n",
    "#This function utilizes the kaplanmeier python package (make sure to cite): https://pypi.org/project/kaplanmeier/\n",
    "#This function is capable of comparing multiple groups, unlike original function\n",
    "def kaplanmeierEFS(groups, title, labels):\n",
    "    #Get EFS times for each group\n",
    "    EFS = []\n",
    "    for group in groups:\n",
    "        patients = clinical_sample_trimmed.loc[clinical_sample_trimmed['Sample Identifier'].isin(group)]['#Patient Identifier']\n",
    "        group_EFS = clinical_patient_trimmed.loc[clinical_patient_trimmed['#Patient Identifier'].isin(patients)]['EFS Time'].astype(float).dropna()\n",
    "        group_EFS = group_EFS/365\n",
    "        EFS.append(group_EFS)\n",
    "    \n",
    "    #Get event status for each group\n",
    "    event_status = []\n",
    "    i=0\n",
    "    for group in groups:\n",
    "        patients = clinical_sample_trimmed.loc[clinical_sample_trimmed['Sample Identifier'].isin(group)]['#Patient Identifier']\n",
    "        event_string = clinical_patient_trimmed.loc[clinical_patient_trimmed['#Patient Identifier'].isin(patients)]['First Event']\n",
    "        for index in (set(event_string.index)-set(EFS[i].index)):\n",
    "            del event_string[index]\n",
    "        event_num=[]\n",
    "        for status in event_string:\n",
    "            if(status == 'Censored'):\n",
    "                event_num.append(0)\n",
    "            else:\n",
    "                event_num.append(1)\n",
    "        event_status.append(event_num)\n",
    "        i+=1\n",
    "    \n",
    "    #Create dataframe containing EFS Time and Event Status for each group\n",
    "    group_dfs = []\n",
    "    for i in range(len(groups)):\n",
    "        group_df = pd.DataFrame()\n",
    "        group_df['EFS_time'] = EFS[i]\n",
    "        group_df['Event_Status'] = event_status[i]\n",
    "        group_df['Group'] = labels[i]\n",
    "        group_dfs.append(group_df)\n",
    "    \n",
    "    #Combine dataframes\n",
    "    combined_df = pd.concat(group_dfs).dropna()\n",
    "    \n",
    "    #Use kaplanmeier Python package to plot Kaplan-Meier survival curve\n",
    "    for i in range(len(groups)):\n",
    "        kmf = KaplanMeierFitter(alpha=1)\n",
    "        kmf.fit(group_dfs[i]['EFS_time'], group_dfs[i]['Event_Status'], label=labels[i])\n",
    "        ax = kmf.plot()\n",
    "        #Print median survival time and probability of 5yr survival\n",
    "        print(labels[i] + ' median survival time = ' + str(kmf.median_survival_time_))\n",
    "        print(labels[i] + ' probability of 5yr EFS = ' + str(kmf.predict(5)))\n",
    "    ax.set_title(title)\n",
    "    ax.set_ylabel('EFS proportion')\n",
    "    ax.set_xlabel('Years')\n",
    "    ax.set_ylim([0,1])\n",
    "    ax.legend(loc='lower left')\n",
    "    plt.show()\n",
    "    \n",
    "    #logrank_test\n",
    "    for combo in list(combinations(labels,2)):\n",
    "        group1=combined_df[combined_df['Group']==combo[0]]\n",
    "        group2=combined_df[combined_df['Group']==combo[1]]\n",
    "        T=group1['EFS_time']\n",
    "        E=group1['Event_Status']\n",
    "        T1=group2['EFS_time']\n",
    "        E1=group2['Event_Status']\n",
    "        results=logrank_test(T,T1,event_observed_A=E, event_observed_B=E1)\n",
    "        print('Log Rank Test between ' + combo[0] + ' and ' + combo[1])\n",
    "        results.print_summary()\n",
    "        print('p-value = ' + str(results.p_value))\n",
    "    \n",
    "    "
   ]
  },
  {
   "cell_type": "markdown",
   "metadata": {},
   "source": [
    "# Function for making a scatter plot of z-scores between two genes"
   ]
  },
  {
   "cell_type": "code",
   "execution_count": 58,
   "metadata": {},
   "outputs": [],
   "source": [
    "#This function makes a scatter plot for comparing the z-scores of two genes across all TARGET samples\n",
    "#Inputs: (1) gene to be plotted on x-axis, (2) gene to be plotted on y-axis, and (3) an optional parameter\n",
    "#that allows you to specify the dataframe of z-scores you want to use (this is set to the dataframe of\n",
    "#z-scores for all TARGET samples by default, but if you want to only analyze a subset of the samples, you\n",
    "#should specify your own z-score dataframe)\n",
    "def geneScatter(gene1, gene2,z_scores=z_scores):\n",
    "    #Get all z-scores for each gene\n",
    "    gene1_z_scores = z_scores.loc[z_scores['Hugo_Symbol']==gene1].iloc[:,2:].transpose()\n",
    "    gene2_z_scores = z_scores.loc[z_scores['Hugo_Symbol']==gene2].iloc[:,2:].transpose()\n",
    "    \n",
    "    #Make scatter plot that includes a line of best fit\n",
    "    plt.scatter(gene1_z_scores,gene2_z_scores)\n",
    "    plt.xlabel(gene1 + ' z-score')\n",
    "    plt.ylabel(gene2 + ' z-score')\n",
    "    m,b = np.polyfit(gene1_z_scores.iloc[:,0].values,gene2_z_scores.iloc[:,0].values,1)\n",
    "    plt.plot(gene1_z_scores, m*(gene1_z_scores.iloc[:,0].values) + b, 'orange')\n",
    "    plt.show()\n",
    "    \n",
    "    #Calculate pearson's correlation coefficient and the p-value from the pearson correlation test\n",
    "    corr,pvalue = st.pearsonr(gene1_z_scores.iloc[:,0].tolist(),gene2_z_scores.iloc[:,0].tolist())\n",
    "    print('Pearson correlation coefficient = ' + str(corr))\n",
    "    print('p-value = ' + str(pvalue))\n"
   ]
  }
 ],
 "metadata": {
  "kernelspec": {
   "display_name": "Python 3",
   "language": "python",
   "name": "python3"
  },
  "language_info": {
   "codemirror_mode": {
    "name": "ipython",
    "version": 3
   },
   "file_extension": ".py",
   "mimetype": "text/x-python",
   "name": "python",
   "nbconvert_exporter": "python",
   "pygments_lexer": "ipython3",
   "version": "3.8.2"
  }
 },
 "nbformat": 4,
 "nbformat_minor": 4
}
